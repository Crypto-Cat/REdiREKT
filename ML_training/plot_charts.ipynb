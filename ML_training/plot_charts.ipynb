{
 "cells": [
  {
   "cell_type": "code",
   "execution_count": null,
   "metadata": {},
   "outputs": [],
   "source": [
    "from os import path, getcwd\n",
    "import numpy as np\n",
    "from numpy import array\n",
    "import pandas as pd\n",
    "import sklearn as sk\n",
    "import matplotlib\n",
    "import matplotlib.pyplot as plt"
   ]
  },
  {
   "cell_type": "code",
   "execution_count": null,
   "metadata": {},
   "outputs": [],
   "source": [
    "# Plot - training_loss vs validation_loss over the number of epochs/layers/nodes\n",
    "def plot_metrics(group, metric, fname):\n",
    "    # Use LaTeX fonts in the plot\n",
    "    plt.rc('text', usetex=True)\n",
    "    plt.rc('font', family='serif')\n",
    "    # Get the figure\n",
    "    f = plt.figure()\n",
    "\n",
    "    # Plot values\n",
    "    # plt.plot(group[metric], group['accuracy'], 'g', label='Accuracy')\n",
    "    # plt.plot(group[metric], group['precision'], 'b', label='Precision')\n",
    "    # plt.plot(group[metric], group['recall'], 'r', label='Recall')\n",
    "    plt.plot(group[metric], group['f1'], 'y', label='F1 Score')\n",
    "    plt.title(r'\\textbf{Dropout Tuning}', fontsize=11)\n",
    "    plt.xlabel(r'\\textbf{Dropout}', fontsize=11)\n",
    "    plt.ylabel(r'\\textbf{F1 Score}', fontsize=11)\n",
    "    plt.legend()\n",
    "    plt.show()\n",
    "    f.savefig('plots/' + metric + '_tracking/' + fname + '.pdf', bbox_inches='tight')\n",
    "    plt.close()"
   ]
  },
  {
   "cell_type": "code",
   "execution_count": null,
   "metadata": {},
   "outputs": [],
   "source": [
    "# Function to plot graphs\n",
    "\n",
    "# Load result data\n",
    "df = pd.read_csv(path.join(getcwd(), \"results/grid_results.csv\"))\n",
    "\n",
    "# Metric type - neurons, layers, epochs\n",
    "metric = 'dropout'\n",
    "\n",
    "fname = \"dropout_tuning\"\n",
    "\n",
    "plot_metrics(df, metric, fname)\n",
    "    "
   ]
  },
  {
   "cell_type": "code",
   "execution_count": null,
   "metadata": {},
   "outputs": [],
   "source": []
  }
 ],
 "metadata": {
  "language_info": {
   "name": "python",
   "codemirror_mode": {
    "name": "ipython",
    "version": 3
   },
   "version": "3.6.9-final"
  },
  "orig_nbformat": 2,
  "file_extension": ".py",
  "mimetype": "text/x-python",
  "name": "python",
  "npconvert_exporter": "python",
  "pygments_lexer": "ipython3",
  "version": 3,
  "kernelspec": {
   "name": "python36964bit3d259b2695f04b1486c7122cd3c2f034",
   "display_name": "Python 3.6.9 64-bit"
  }
 },
 "nbformat": 4,
 "nbformat_minor": 2
}